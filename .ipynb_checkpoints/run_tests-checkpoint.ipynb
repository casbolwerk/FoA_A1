{
 "cells": [
  {
   "cell_type": "code",
   "execution_count": 1,
   "id": "43761b28",
   "metadata": {},
   "outputs": [],
   "source": [
    "import subprocess\n",
    "from subprocess import PIPE\n",
    "from os import listdir\n",
    "from os.path import isfile, join"
   ]
  },
  {
   "cell_type": "code",
   "execution_count": 2,
   "id": "02e2397b",
   "metadata": {},
   "outputs": [],
   "source": [
    "def get_output(first, second, time, board):\n",
    "    cmd = f'python simulate_game_bulk.py --first={first} --second={second} --time={time} --board=boards\\\\{board} --iter=6 --workers=6'.split()\n",
    "    popen = subprocess.Popen(cmd, stdout=subprocess.PIPE, universal_newlines=True)\n",
    "    for stdout_line in iter(popen.stdout.readline, \"\"):\n",
    "            yield(stdout_line) "
   ]
  },
  {
   "cell_type": "code",
   "execution_count": 3,
   "id": "9fdbc0da",
   "metadata": {},
   "outputs": [],
   "source": [
    "def get_boards(path):\n",
    "    boards = [f for f in listdir(boards_path) if isfile(join(boards_path, f))]\n",
    "    for board in boards:\n",
    "        if board.startswith('empty'):\n",
    "            print(board)\n",
    "            boards.remove(board)\n",
    "    boards.append('empty-3x3.txt')\n",
    "    return boards"
   ]
  },
  {
   "cell_type": "code",
   "execution_count": 7,
   "id": "abd912b1",
   "metadata": {},
   "outputs": [
    {
     "ename": "AttributeError",
     "evalue": "'str' object has no attribute 'remove'",
     "output_type": "error",
     "traceback": [
      "\u001b[1;31m---------------------------------------------------------------------------\u001b[0m",
      "\u001b[1;31mAttributeError\u001b[0m                            Traceback (most recent call last)",
      "\u001b[1;32m~\\AppData\\Local\\Temp/ipykernel_19712/2047152400.py\u001b[0m in \u001b[0;36m<module>\u001b[1;34m\u001b[0m\n\u001b[0;32m      7\u001b[0m     \u001b[1;32mfor\u001b[0m \u001b[0mtime\u001b[0m \u001b[1;32min\u001b[0m \u001b[0mtimes\u001b[0m\u001b[1;33m:\u001b[0m\u001b[1;33m\u001b[0m\u001b[1;33m\u001b[0m\u001b[0m\n\u001b[0;32m      8\u001b[0m         \u001b[0moutput\u001b[0m \u001b[1;33m=\u001b[0m \u001b[0mget_output\u001b[0m\u001b[1;33m(\u001b[0m\u001b[0mplayer\u001b[0m\u001b[1;33m,\u001b[0m \u001b[0mopponent\u001b[0m\u001b[1;33m,\u001b[0m \u001b[0mtime\u001b[0m\u001b[1;33m,\u001b[0m \u001b[0mboard\u001b[0m\u001b[1;33m)\u001b[0m\u001b[1;33m\u001b[0m\u001b[1;33m\u001b[0m\u001b[0m\n\u001b[1;32m----> 9\u001b[1;33m         \u001b[0moutputs\u001b[0m\u001b[1;33m[\u001b[0m\u001b[0mboard\u001b[0m\u001b[1;33m.\u001b[0m\u001b[0mremove\u001b[0m\u001b[1;33m(\u001b[0m\u001b[1;34m'.txt'\u001b[0m\u001b[1;33m)\u001b[0m\u001b[1;33m+\u001b[0m\u001b[1;34m'-'\u001b[0m\u001b[1;33m+\u001b[0m\u001b[0mtime\u001b[0m\u001b[1;33m+\u001b[0m\u001b[1;34m'-first'\u001b[0m\u001b[1;33m]\u001b[0m \u001b[1;33m=\u001b[0m \u001b[0moutput\u001b[0m\u001b[1;33m\u001b[0m\u001b[1;33m\u001b[0m\u001b[0m\n\u001b[0m\u001b[0;32m     10\u001b[0m         \u001b[0moutput\u001b[0m \u001b[1;33m=\u001b[0m \u001b[0mget_output\u001b[0m\u001b[1;33m(\u001b[0m\u001b[0mopponent\u001b[0m\u001b[1;33m,\u001b[0m \u001b[0mplayer\u001b[0m\u001b[1;33m,\u001b[0m \u001b[0mtime\u001b[0m\u001b[1;33m,\u001b[0m \u001b[0mboard\u001b[0m\u001b[1;33m)\u001b[0m\u001b[1;33m\u001b[0m\u001b[1;33m\u001b[0m\u001b[0m\n\u001b[0;32m     11\u001b[0m         \u001b[0moutputs\u001b[0m\u001b[1;33m[\u001b[0m\u001b[0mboard\u001b[0m\u001b[1;33m.\u001b[0m\u001b[0mremove\u001b[0m\u001b[1;33m(\u001b[0m\u001b[1;34m'.txt'\u001b[0m\u001b[1;33m)\u001b[0m\u001b[1;33m+\u001b[0m\u001b[1;34m'-'\u001b[0m\u001b[1;33m+\u001b[0m\u001b[0mtime\u001b[0m\u001b[1;33m+\u001b[0m\u001b[1;34m'-second'\u001b[0m\u001b[1;33m]\u001b[0m \u001b[1;33m=\u001b[0m \u001b[0moutput\u001b[0m\u001b[1;33m\u001b[0m\u001b[1;33m\u001b[0m\u001b[0m\n",
      "\u001b[1;31mAttributeError\u001b[0m: 'str' object has no attribute 'remove'"
     ]
    }
   ],
   "source": [
    "opponent = 'random_player'\n",
    "player = 'team37_A1'\n",
    "boards = ['easy-2x2.txt', 'easy-3x3.txt', 'hard-3x3.txt', 'random-2x3.txt', 'random-3x3.txt', 'random-3x4.txt', 'random-4x4.txt', 'empty-3x3.txt']\n",
    "times = ['0.1', '0.5', '1', '5']\n",
    "outputs = {}\n",
    "for board in boards:\n",
    "    for time in times:\n",
    "        output = get_output(player, opponent, time, board)\n",
    "        outputs[board.replace('.txt','')+'-'+time+'-first'] = output\n",
    "        output = get_output(opponent, player, time, board)\n",
    "        outputs[board.replace('.txt','')+'-'+time+'-second'] = output"
   ]
  },
  {
   "cell_type": "code",
   "execution_count": 6,
   "id": "c442b5dd",
   "metadata": {},
   "outputs": [
    {
     "ename": "KeyError",
     "evalue": "'easy-2x2-0.1-first'",
     "output_type": "error",
     "traceback": [
      "\u001b[1;31m---------------------------------------------------------------------------\u001b[0m",
      "\u001b[1;31mKeyError\u001b[0m                                  Traceback (most recent call last)",
      "\u001b[1;32m~\\AppData\\Local\\Temp/ipykernel_19712/1944565398.py\u001b[0m in \u001b[0;36m<module>\u001b[1;34m\u001b[0m\n\u001b[1;32m----> 1\u001b[1;33m \u001b[0mprint\u001b[0m\u001b[1;33m(\u001b[0m\u001b[0moutputs\u001b[0m\u001b[1;33m[\u001b[0m\u001b[1;34m'easy-2x2-0.1-first'\u001b[0m\u001b[1;33m]\u001b[0m\u001b[1;33m)\u001b[0m\u001b[1;33m\u001b[0m\u001b[1;33m\u001b[0m\u001b[0m\n\u001b[0m",
      "\u001b[1;31mKeyError\u001b[0m: 'easy-2x2-0.1-first'"
     ]
    }
   ],
   "source": [
    "print(outputs['easy-2x2-0.1-first'])"
   ]
  },
  {
   "cell_type": "code",
   "execution_count": null,
   "id": "fdbca0f8",
   "metadata": {},
   "outputs": [],
   "source": []
  }
 ],
 "metadata": {
  "kernelspec": {
   "display_name": "sudoku",
   "language": "python",
   "name": "sudoku"
  },
  "language_info": {
   "codemirror_mode": {
    "name": "ipython",
    "version": 3
   },
   "file_extension": ".py",
   "mimetype": "text/x-python",
   "name": "python",
   "nbconvert_exporter": "python",
   "pygments_lexer": "ipython3",
   "version": "3.7.12"
  }
 },
 "nbformat": 4,
 "nbformat_minor": 5
}
