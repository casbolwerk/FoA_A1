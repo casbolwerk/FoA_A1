{
 "cells": [
  {
   "cell_type": "code",
   "execution_count": 1,
   "id": "43761b28",
   "metadata": {},
   "outputs": [],
   "source": [
    "import subprocess\n",
    "from subprocess import PIPE\n",
    "import os\n",
    "from os import listdir\n",
    "from os.path import isfile, join"
   ]
  },
  {
   "cell_type": "code",
   "execution_count": 2,
   "id": "02e2397b",
   "metadata": {},
   "outputs": [],
   "source": [
    "def get_output(first, second, time, board):\n",
    "    cmd = f'python simulate_game_bulk.py --first={first} --second={second} --time={time} --board=boards\\\\{board} --iter=6 --workers=6'.split()\n",
    "    popen = subprocess.Popen(cmd, stdout=subprocess.PIPE, universal_newlines=True)\n",
    "    for stdout_line in iter(popen.stdout.readline, \"\"):\n",
    "            yield(stdout_line) "
   ]
  },
  {
   "cell_type": "code",
   "execution_count": 3,
   "id": "060711f1",
   "metadata": {},
   "outputs": [],
   "source": [
    "def get_boards(path):\n",
    "    boards = [f for f in listdir(boards_path) if isfile(join(boards_path, f))]\n",
    "    for board in boards:\n",
    "        if board.startswith('empty'):\n",
    "            print(board)\n",
    "            boards.remove(board)\n",
    "    boards.append('empty-3x3.txt')\n",
    "    return boards"
   ]
  },
  {
   "cell_type": "code",
   "execution_count": null,
   "id": "abd912b1",
   "metadata": {},
   "outputs": [],
   "source": [
    "opponent = 'greedy_player'\n",
    "player = 'team37_A1'\n",
    "boards = ['easy-2x2.txt', 'easy-3x3.txt', 'hard-3x3.txt', 'random-2x3.txt', 'random-3x3.txt', 'random-3x4.txt', 'random-4x4.txt', 'empty-3x3.txt']\n",
    "temp_boards = ['random-3x3.txt', 'easy-3x3.txt', 'hard-3x3.txt', 'random-2x3.txt']\n",
    "times = ['0.1', '0.5', '1', '5']\n",
    "output_dir = r'D:\\Program Files\\FoA_A1\\tests'\n",
    "outputs = {}\n",
    "for board in temp_boards:\n",
    "    for time in times:\n",
    "        output = get_output(player, opponent, time, board)\n",
    "        with open(os.path.join(output_dir, board.replace('.txt','')+'-'+time+'-first.txt'), 'w') as f:\n",
    "            for line in output:\n",
    "                f.write(line)\n",
    "        output = get_output(opponent, player, time, board)\n",
    "        with open(os.path.join(output_dir, board.replace('.txt','')+'-'+time+'-second.txt'), 'w') as f:\n",
    "            for line in output:\n",
    "                f.write(line)"
   ]
  },
  {
   "cell_type": "code",
   "execution_count": null,
   "id": "c442b5dd",
   "metadata": {},
   "outputs": [],
   "source": []
  },
  {
   "cell_type": "code",
   "execution_count": null,
   "id": "2d2906da",
   "metadata": {},
   "outputs": [],
   "source": []
  }
 ],
 "metadata": {
  "kernelspec": {
   "display_name": "sudoku",
   "language": "python",
   "name": "sudoku"
  },
  "language_info": {
   "codemirror_mode": {
    "name": "ipython",
    "version": 3
   },
   "file_extension": ".py",
   "mimetype": "text/x-python",
   "name": "python",
   "nbconvert_exporter": "python",
   "pygments_lexer": "ipython3",
   "version": "3.7.12"
  }
 },
 "nbformat": 4,
 "nbformat_minor": 5
}
